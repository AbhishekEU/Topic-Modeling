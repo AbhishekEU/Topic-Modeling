{
 "cells": [
  {
   "cell_type": "code",
   "execution_count": 3,
   "metadata": {},
   "outputs": [],
   "source": [
    "import pandas as pd\n",
    "import numpy as np"
   ]
  },
  {
   "cell_type": "code",
   "execution_count": 6,
   "metadata": {},
   "outputs": [
    {
     "data": {
      "text/plain": [
       "0        इसराइल के साथ हाथ मिलाने की बारी अब क्या ओमान ...\n",
       "1        एनडीए के हरिवंश नारायण दोबारा चुने गए राज्यसभा...\n",
       "2                  कार्टून: ऐसे कैसे होगा हिन्दी का विकास?\n",
       "3          क्या दूसरी पत्नी को पति की संपति में अधिकार है?\n",
       "4        असम में कई मंदिरों के निर्माण में मदद करने वाल...\n",
       "                               ...                        \n",
       "14395    आज के दौर में दलित राजनीति वामपंथी और दक्षिणपं...\n",
       "14396          CARTOON: स्टैंडअप इंडिया? #BBCHindicartoons\n",
       "14397    जब ख़त्म हुए डायनासोर, कैसा था पृथ्वी पर वो आख...\n",
       "14398    अफ़ग़ानिस्तान में आया तालिबान तो भारत का क्या ...\n",
       "14399    उस लड़की का दर्द... जिसकी निजी तस्वीरें और वीड...\n",
       "Name: text, Length: 14400, dtype: object"
      ]
     },
     "execution_count": 6,
     "metadata": {},
     "output_type": "execute_result"
    }
   ],
   "source": [
    "df = pd.read_csv('BBCHindi.csv')\n",
    "df['text']"
   ]
  },
  {
   "cell_type": "code",
   "execution_count": null,
   "metadata": {},
   "outputs": [],
   "source": []
  },
  {
   "cell_type": "code",
   "execution_count": 40,
   "metadata": {},
   "outputs": [
    {
     "name": "stdout",
     "output_type": "stream",
     "text": [
      "Requirement already satisfied: googletrans==3.1.0a0 in c:\\users\\karth\\.conda\\envs\\cenv\\lib\\site-packages (3.1.0a0)\n",
      "Requirement already satisfied: httpx==0.13.3 in c:\\users\\karth\\.conda\\envs\\cenv\\lib\\site-packages (from googletrans==3.1.0a0) (0.13.3)\n",
      "Requirement already satisfied: hstspreload in c:\\users\\karth\\.conda\\envs\\cenv\\lib\\site-packages (from httpx==0.13.3->googletrans==3.1.0a0) (2023.1.1)\n",
      "Requirement already satisfied: sniffio in c:\\users\\karth\\.conda\\envs\\cenv\\lib\\site-packages (from httpx==0.13.3->googletrans==3.1.0a0) (1.3.0)\n",
      "Requirement already satisfied: httpcore==0.9.* in c:\\users\\karth\\.conda\\envs\\cenv\\lib\\site-packages (from httpx==0.13.3->googletrans==3.1.0a0) (0.9.1)\n",
      "Requirement already satisfied: idna==2.* in c:\\users\\karth\\.conda\\envs\\cenv\\lib\\site-packages (from httpx==0.13.3->googletrans==3.1.0a0) (2.10)\n",
      "Requirement already satisfied: certifi in c:\\users\\karth\\.conda\\envs\\cenv\\lib\\site-packages (from httpx==0.13.3->googletrans==3.1.0a0) (2022.12.7)\n",
      "Requirement already satisfied: chardet==3.* in c:\\users\\karth\\.conda\\envs\\cenv\\lib\\site-packages (from httpx==0.13.3->googletrans==3.1.0a0) (3.0.4)\n",
      "Requirement already satisfied: rfc3986<2,>=1.3 in c:\\users\\karth\\.conda\\envs\\cenv\\lib\\site-packages (from httpx==0.13.3->googletrans==3.1.0a0) (1.5.0)\n",
      "Requirement already satisfied: h11<0.10,>=0.8 in c:\\users\\karth\\.conda\\envs\\cenv\\lib\\site-packages (from httpcore==0.9.*->httpx==0.13.3->googletrans==3.1.0a0) (0.9.0)\n",
      "Requirement already satisfied: h2==3.* in c:\\users\\karth\\.conda\\envs\\cenv\\lib\\site-packages (from httpcore==0.9.*->httpx==0.13.3->googletrans==3.1.0a0) (3.2.0)\n",
      "Requirement already satisfied: hyperframe<6,>=5.2.0 in c:\\users\\karth\\.conda\\envs\\cenv\\lib\\site-packages (from h2==3.*->httpcore==0.9.*->httpx==0.13.3->googletrans==3.1.0a0) (5.2.0)\n",
      "Requirement already satisfied: hpack<4,>=3.0 in c:\\users\\karth\\.conda\\envs\\cenv\\lib\\site-packages (from h2==3.*->httpcore==0.9.*->httpx==0.13.3->googletrans==3.1.0a0) (3.0.0)\n",
      "Note: you may need to restart the kernel to use updated packages.\n"
     ]
    }
   ],
   "source": [
    "%pip install googletrans==3.1.0a0"
   ]
  },
  {
   "cell_type": "code",
   "execution_count": 41,
   "metadata": {},
   "outputs": [],
   "source": [
    "from googletrans import Translator\n",
    "translator = Translator()"
   ]
  },
  {
   "cell_type": "code",
   "execution_count": 42,
   "metadata": {},
   "outputs": [],
   "source": [
    "text = df['text'].apply(lambda x:str(x))"
   ]
  },
  {
   "cell_type": "code",
   "execution_count": 43,
   "metadata": {},
   "outputs": [],
   "source": [
    "for i in range(len(text)):\n",
    "    text[i] = translator.translate(text[i]).text"
   ]
  },
  {
   "cell_type": "code",
   "execution_count": 44,
   "metadata": {},
   "outputs": [
    {
     "data": {
      "text/plain": [
       "0             Is it Oman's turn to join hands with Israel?\n",
       "1        NDA's Harivansh Narayan re-elected as Deputy C...\n",
       "2               Cartoon: How will Hindi develop like this?\n",
       "3        Does the second wife have any right in the hus...\n",
       "4        The story of a Muslim couple who helped build ...\n",
       "                               ...                        \n",
       "14395    In today's era, Dalit politics has become a vi...\n",
       "14396            CARTOON: Standup India? #bbchindicartoons\n",
       "14397    When the dinosaurs ended, how was that last da...\n",
       "14398    What will happen to India if Taliban comes to ...\n",
       "14399    The pain of that girl... whose private picture...\n",
       "Name: text, Length: 14400, dtype: object"
      ]
     },
     "execution_count": 44,
     "metadata": {},
     "output_type": "execute_result"
    }
   ],
   "source": [
    "text"
   ]
  },
  {
   "cell_type": "code",
   "execution_count": 45,
   "metadata": {},
   "outputs": [],
   "source": [
    "df1 = pd.DataFrame(data={'tweet':text})\n",
    "df1.to_csv('BCCEnglish.csv')"
   ]
  },
  {
   "cell_type": "code",
   "execution_count": null,
   "metadata": {},
   "outputs": [],
   "source": [
    "df1"
   ]
  }
 ],
 "metadata": {
  "kernelspec": {
   "display_name": "base",
   "language": "python",
   "name": "python3"
  },
  "language_info": {
   "codemirror_mode": {
    "name": "ipython",
    "version": 3
   },
   "file_extension": ".py",
   "mimetype": "text/x-python",
   "name": "python",
   "nbconvert_exporter": "python",
   "pygments_lexer": "ipython3",
   "version": "3.9.13"
  },
  "orig_nbformat": 4
 },
 "nbformat": 4,
 "nbformat_minor": 2
}
